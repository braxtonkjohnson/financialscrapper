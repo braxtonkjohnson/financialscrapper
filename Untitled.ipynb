{
 "cells": [
  {
   "cell_type": "code",
   "execution_count": null,
   "id": "59e8dbde",
   "metadata": {},
   "outputs": [],
   "source": [
    "import numpy as np\n",
    "import pandas as pd\n",
    "import yfinance as yf"
   ]
  },
  {
   "cell_type": "code",
   "execution_count": null,
   "id": "5a41e844",
   "metadata": {},
   "outputs": [],
   "source": [
    "nyse_tickers = pd.read_csv(\"nasdaq_screener_1638812010252.csv\")\n",
    "all_tickers = nyse_tickers[\"Symbol\"]\n",
    "ticker_list = all_tickers.to_list()"
   ]
  },
  {
   "cell_type": "code",
   "execution_count": null,
   "id": "cdef2b4f",
   "metadata": {},
   "outputs": [],
   "source": [
    "for stocks in ticker_list:\n",
    "    var = stocks\n",
    "    working_ticker = yf.Ticker(f\"{var}\")\n",
    "    print(working_ticker.quarterly_balance_sheet[1])\n",
    "    "
   ]
  },
  {
   "cell_type": "code",
   "execution_count": null,
   "id": "6f6f5f67",
   "metadata": {},
   "outputs": [],
   "source": [
    " print(working_ticker.financials)\n",
    "    print(working_ticker.history(\"5m\"))"
   ]
  }
 ],
 "metadata": {
  "kernelspec": {
   "display_name": "Python 3 (ipykernel)",
   "language": "python",
   "name": "python3"
  },
  "language_info": {
   "codemirror_mode": {
    "name": "ipython",
    "version": 3
   },
   "file_extension": ".py",
   "mimetype": "text/x-python",
   "name": "python",
   "nbconvert_exporter": "python",
   "pygments_lexer": "ipython3",
   "version": "3.9.7"
  }
 },
 "nbformat": 4,
 "nbformat_minor": 5
}
